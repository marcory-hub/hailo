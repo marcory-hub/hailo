{
  "nbformat": 4,
  "nbformat_minor": 0,
  "metadata": {
    "colab": {
      "provenance": [],
      "authorship_tag": "ABX9TyO1K56x7L4+O677btxW2FAv",
      "include_colab_link": true
    },
    "kernelspec": {
      "name": "python3",
      "display_name": "Python 3"
    },
    "language_info": {
      "name": "python"
    }
  },
  "cells": [
    {
      "cell_type": "markdown",
      "metadata": {
        "id": "view-in-github",
        "colab_type": "text"
      },
      "source": [
        "<a href=\"https://colab.research.google.com/github/marcory-hub/hailo/blob/main/DFC.ipynb\" target=\"_parent\"><img src=\"https://colab.research.google.com/assets/colab-badge.svg\" alt=\"Open In Colab\"/></a>"
      ]
    },
    {
      "cell_type": "code",
      "source": [
        "# PAS INSTALL EN .pt naar onnx ALS ULTRALYTICS WEER VEILIG IS\n"
      ],
      "metadata": {
        "id": "LSMmBxNS3JGN"
      },
      "execution_count": null,
      "outputs": []
    },
    {
      "cell_type": "code",
      "source": [
        "!pip install onnx\n",
        "!pip install onnxruntime\n",
        "!pip install torch"
      ],
      "metadata": {
        "id": "ay6qXlD36Z6W"
      },
      "execution_count": null,
      "outputs": []
    },
    {
      "cell_type": "code",
      "source": [
        "import onnx\n",
        "import onnxruntime as ort\n",
        "import torch\n",
        "\n",
        "# Load the ONNX model\n",
        "onnx_model = onnx.load(\"/content/gdrive/MyDrive/best9.onnx\")\n",
        "onnx.checker.check_model(onnx_model)\n",
        "print(\"ONNX model is valid!\")\n",
        "\n",
        "\n",
        "# Test the ONNX model with ONNX Runtime\n",
        "dummy_input = torch.randn(1, 3, 640, 640).numpy()\n",
        "ort_session = ort.InferenceSession(\"/content/gdrive/MyDrive/best9.onnx\")\n",
        "\n",
        "# Run the model using the correct input name\n",
        "outputs = ort_session.run(None, {\"images\": dummy_input})\n",
        "print(outputs[0])\n"
      ],
      "metadata": {
        "id": "pkY93NqZ6P75"
      },
      "execution_count": null,
      "outputs": []
    },
    {
      "cell_type": "code",
      "execution_count": null,
      "metadata": {
        "id": "FdzZ80-sdnBb"
      },
      "outputs": [],
      "source": [
        "#!sudo apt-get update # run if package is not found\n",
        "\n",
        "# Install dependencies as described in system requirements:\n",
        "# https://hailo.ai/developer-zone/documentation/dataflow-compiler-v3-29-0/?sp_referrer=install/install.html\n",
        "!sudo apt-get install -y python3-dev python3-distutils python3-tk libfuse2 graphviz libgraphviz-dev"
      ]
    },
    {
      "cell_type": "code",
      "source": [
        "# Make venv\n",
        "!pip install --upgrade pip virtualenv\n",
        "!virtualenv venv"
      ],
      "metadata": {
        "id": "G6v5czlax_0g"
      },
      "execution_count": null,
      "outputs": []
    },
    {
      "cell_type": "code",
      "execution_count": null,
      "metadata": {
        "id": "RmvvZTVR87-F"
      },
      "outputs": [],
      "source": [
        "# Mount Google Drive\n",
        "from google.colab import drive\n",
        "drive.mount('/content/gdrive')"
      ]
    },
    {
      "cell_type": "markdown",
      "source": [
        "Download hailo dataflow compiler (python 3.10): https://hailo.ai/developer-zone/software-downloads/\n",
        "\n",
        "Copy it to googledrive"
      ],
      "metadata": {
        "id": "TJD-7cS0yIV5"
      }
    },
    {
      "cell_type": "code",
      "source": [
        "#Install DFC (adjust the path to the .whl if needed)\n",
        "!venv/bin/pip install  /content/gdrive/MyDrive/hailo_dataflow_compiler-3.29.0-py3-none-linux_x86_64.whl"
      ],
      "metadata": {
        "id": "XOv5Q876vVBp"
      },
      "execution_count": null,
      "outputs": []
    },
    {
      "cell_type": "code",
      "source": [
        "!venv/bin/hailo --version"
      ],
      "metadata": {
        "colab": {
          "base_uri": "https://localhost:8080/"
        },
        "id": "1f6UFevjwTHP",
        "outputId": "cdd43e8e-49d1-4184-f2e3-76205dc9c880"
      },
      "execution_count": 13,
      "outputs": [
        {
          "output_type": "stream",
          "name": "stdout",
          "text": [
            "[\u001b[32minfo\u001b[0m] Current Time: 20:27:26, 12/08/24\n",
            "[\u001b[32minfo\u001b[0m] CPU: Architecture: x86_64, Model: AMD EPYC 7B12, Number Of Cores: 2, Utilization: 59.3%\n",
            "[\u001b[32minfo\u001b[0m] Memory: Total: 12GB, Available: 10GB\n",
            "[\u001b[32minfo\u001b[0m] System info: OS: Linux, Kernel: 6.1.85+\n",
            "[\u001b[32minfo\u001b[0m] Hailo DFC Version: 3.29.0\n",
            "[\u001b[32minfo\u001b[0m] HailoRT Version: Not Installed\n",
            "[\u001b[32minfo\u001b[0m] PCIe: No Hailo PCIe device was found\n",
            "[\u001b[32minfo\u001b[0m] Running `hailo --version`\n",
            "Hailo Dataflow Compiler v3.29.0\n"
          ]
        }
      ]
    },
    {
      "cell_type": "code",
      "source": [
        "from hailo_sdk_client import ClientRunner\n",
        "\n",
        "# Define the ONNX model path and configuration\n",
        "onnx_path = \"/content/gdrive/MyDrive/best9.onnx\"\n",
        "onnx_model_name = \"best9\"\n",
        "chosen_hw_arch = \"hailo8\"  # Specify the target hardware architecture\n",
        "\n",
        "# Initialize the ClientRunner\n",
        "runner = ClientRunner(hw_arch=chosen_hw_arch)\n",
        "\n",
        "# Use the recommended end node names for translation\n",
        "end_node_names = [\n",
        "    \"/model.14/cv2.0/cv2.0.2/Conv\",  # P4 regression_layer\n",
        "    \"/model.14/cv3.0/cv3.0.2/Conv\",  # P4 cls_layer\n",
        "    \"/model.14/cv2.1/cv2.1.2/Conv\",  # P5 regression_layer\n",
        "    \"/model.14/cv3.1/cv3.1.2/Conv\",  # P5 cls_layer,\n",
        "]\n",
        "\n",
        "try:\n",
        "    # Translate the ONNX model to Hailo's format\n",
        "    hn, npz = runner.translate_onnx_model(\n",
        "        onnx_path,\n",
        "        onnx_model_name,\n",
        "        end_node_names=end_node_names,\n",
        "        net_input_shapes={\"input\": [16, 3, 640, 640]},  # Adjust input shapes if needed\n",
        "    )\n",
        "    print(\"Model translation successful.\")\n",
        "except Exception as e:\n",
        "    print(f\"Error during model translation: {e}\")\n",
        "    raise\n",
        "\n",
        "# Save the Hailo model HAR file\n",
        "hailo_model_har_name = f\"{onnx_model_name}_hailo_model.har\"\n",
        "try:\n",
        "    runner.save_har(hailo_model_har_name)\n",
        "    print(f\"HAR file saved as: {hailo_model_har_name}\")\n",
        "except Exception as e:\n",
        "    print(f\"Error saving HAR file: {e}\")"
      ],
      "metadata": {
        "colab": {
          "base_uri": "https://localhost:8080/",
          "height": 393
        },
        "id": "3msdk06WyyL2",
        "outputId": "0e8c6128-e6c8-495e-c2b1-e4e3615784ac"
      },
      "execution_count": 14,
      "outputs": [
        {
          "output_type": "error",
          "ename": "ModuleNotFoundError",
          "evalue": "No module named 'hailo_sdk_client'",
          "traceback": [
            "\u001b[0;31m---------------------------------------------------------------------------\u001b[0m",
            "\u001b[0;31mModuleNotFoundError\u001b[0m                       Traceback (most recent call last)",
            "\u001b[0;32m<ipython-input-14-d81acc535545>\u001b[0m in \u001b[0;36m<cell line: 1>\u001b[0;34m()\u001b[0m\n\u001b[0;32m----> 1\u001b[0;31m \u001b[0;32mfrom\u001b[0m \u001b[0mhailo_sdk_client\u001b[0m \u001b[0;32mimport\u001b[0m \u001b[0mClientRunner\u001b[0m\u001b[0;34m\u001b[0m\u001b[0;34m\u001b[0m\u001b[0m\n\u001b[0m\u001b[1;32m      2\u001b[0m \u001b[0;34m\u001b[0m\u001b[0m\n\u001b[1;32m      3\u001b[0m \u001b[0;31m# Define the ONNX model path and configuration\u001b[0m\u001b[0;34m\u001b[0m\u001b[0;34m\u001b[0m\u001b[0m\n\u001b[1;32m      4\u001b[0m \u001b[0monnx_path\u001b[0m \u001b[0;34m=\u001b[0m \u001b[0;34m\"/content/gdrive/MyDrive/best9.onnx\"\u001b[0m\u001b[0;34m\u001b[0m\u001b[0;34m\u001b[0m\u001b[0m\n\u001b[1;32m      5\u001b[0m \u001b[0monnx_model_name\u001b[0m \u001b[0;34m=\u001b[0m \u001b[0;34m\"best9\"\u001b[0m\u001b[0;34m\u001b[0m\u001b[0;34m\u001b[0m\u001b[0m\n",
            "\u001b[0;31mModuleNotFoundError\u001b[0m: No module named 'hailo_sdk_client'",
            "",
            "\u001b[0;31m---------------------------------------------------------------------------\u001b[0;32m\nNOTE: If your import is failing due to a missing package, you can\nmanually install dependencies using either !pip or !apt.\n\nTo view examples of installing some common dependencies, click the\n\"Open Examples\" button below.\n\u001b[0;31m---------------------------------------------------------------------------\u001b[0m\n"
          ],
          "errorDetails": {
            "actions": [
              {
                "action": "open_url",
                "actionText": "Open Examples",
                "url": "/notebooks/snippets/importing_libraries.ipynb"
              }
            ]
          }
        }
      ]
    }
  ]
}